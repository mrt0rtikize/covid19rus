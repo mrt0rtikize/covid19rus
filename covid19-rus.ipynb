{
 "cells": [
  {
   "cell_type": "markdown",
   "metadata": {
    "pycharm": {
     "name": "#%% md\n"
    }
   },
   "source": [
    "# Что и зачем \n",
    "Хочу как минимум иметь актуальную статистику по коронавирусу. Как максимум - попытаться спрогнозировать \n",
    "продолжительность и массовой эпидемии и карантина (хочу отметить майские праздники)\n",
    "\n",
    "### Откуда данные\n",
    "\n",
    "Данные взяты [отсюда](https://github.com/CSSEGISandData/COVID-19) \n",
    "(соответствуют данным ВОЗ, но очень удобно скомпанованы в CSV по дням).\n",
    "\n",
    "Обновляются ежедневно, как отмечает автор, в 23:59 UTC. По Москве это в 02:59 ночи. Точность не проверл.\n",
    "\n",
    "Сами данные тоже местами странноватые: есть взять начало марта и посмотреть на РФ, то мы увидим падение кол-ва \n",
    "зарегистрированных случаев коронавируса (09.03 - 10.03). Но в остальном похожи на правду."
   ]
  },
  {
   "cell_type": "markdown",
   "metadata": {
    "pycharm": {
     "name": "#%% md\n"
    }
   },
   "source": [
    "Далее немного костылей, которые в первую очередь связаны со временам и с запаздыванием в датах: данные есть только за \n",
    "прошедши день.\n",
    "Даты решил хранить в глобальной переменной, хуже от этого никому не будет."
   ]
  },
  {
   "cell_type": "code",
   "execution_count": 1,
   "metadata": {
    "pycharm": {
     "is_executing": false,
     "name": "#%%\n"
    }
   },
   "outputs": [],
   "source": [
    "import requests\n",
    "from datetime import datetime, timedelta\n",
    "\n",
    "# global dates\n",
    "dates = [(datetime.today() - timedelta(days=i)).date() for i in range(1, 32)]\n",
    "dates.sort()\n",
    "r = requests.get(f'https://raw.githubusercontent.com/CSSEGISandData/COVID-19/master/csse_covid_19_data/'\n",
    "                 f'csse_covid_19_daily_reports/{dates[-1].strftime(\"%m-%d-%Y\")}.csv')\n",
    "if r.status_code == 404:\n",
    "    dates.pop()"
   ]
  },
  {
   "cell_type": "markdown",
   "metadata": {
    "pycharm": {
     "name": "#%% md\n"
    }
   },
   "source": [
    "Ниже описанны классы данных. \n",
    "\n",
    "Класс `Day` для хранения информации по одному дню. На текущий момент времени в него суммируется все данные за день \n",
    "(например, если будут данные за несколько субъектов гос-ва, как в Китае, данные посчитаются просто как сумма). \n",
    "Это не совсем правильно, но в приоритете для меня стоит статистика по РФ, где пока разбиения на субъекты не завезли.\n",
    "Как завезут или как будет время - добавлю класс на эту тему.\n",
    "Иммет тупейший метод `fetch` - вычисление актуального количества больных за день. Как дойдут руки - перепишу метод,\n",
    "добавлю в него вычисление 'заразности за день' (ниже подробнее описал).\n",
    "\n",
    "Класс `Country` - сборная солянка по стране. \n",
    "Имеет метод `get_data` - берется глобальная переменная dates и исходя из нее тянутся данные, создаются экземпляры \n",
    "класса `Day` и записываются в list.\n",
    "Второй метод `calc_propagation_trend` - считает среднее арифметическое всех объектов `Day` и пишет в propagation, \n",
    "то есть, тренд по распространению (опять же ниже это подробно описано). \n",
    "Имеет переменные name и alt_name: название страны в разных файлах может варьироваться (Russia/Russian Federation или \n",
    "China/Mainland China)."
   ]
  },
  {
   "cell_type": "code",
   "execution_count": 2,
   "metadata": {
    "pycharm": {
     "is_executing": false,
     "name": "#%%\n"
    }
   },
   "outputs": [],
   "source": [
    "import pandas as pd\n",
    "from dataclasses import dataclass, field\n",
    "\n",
    "\n",
    "@dataclass()\n",
    "class Day(object):\n",
    "    date: datetime.date\n",
    "    confirmed: int = 0\n",
    "    dead: int = 0\n",
    "    cured: int = 0\n",
    "    sick: int = 0\n",
    "    propagation: int = 1\n",
    "\n",
    "    def fetch(self):\n",
    "        self.sick = self.confirmed - self.cured - self.dead\n",
    "\n",
    "\n",
    "@dataclass()\n",
    "class Country(object):\n",
    "    global dates\n",
    "    name: str\n",
    "    alt_name: str\n",
    "    data: list = field(default_factory=lambda: [])\n",
    "    states: list = field(default_factory=lambda: [])\n",
    "    propagation_trend: float = 0\n",
    "\n",
    "    def get_data(self):\n",
    "        for date in dates:\n",
    "            day = Day(date=date)\n",
    "            df = pd.read_csv(f'https://raw.githubusercontent.com/CSSEGISandData/COVID-19/master/csse_covid_19_data/'\n",
    "                             f'csse_covid_19_daily_reports/{date.strftime(\"%m-%d-%Y\")}.csv')\n",
    "\n",
    "            for _, row in df[(df['Country/Region'] == self.name)\n",
    "                             | (df['Country/Region'] == self.alt_name)].iterrows():\n",
    "                day.confirmed += int(row['Confirmed'])\n",
    "                day.cured += int(row['Recovered'])\n",
    "                day.dead += int(row['Deaths'])\n",
    "\n",
    "            day.fetch()\n",
    "            if self.data:\n",
    "                try:  # todo ask is it right way\n",
    "                    day.propagation = 1 + (day.confirmed - self.data[-1].confirmed) / self.data[-1].sick\n",
    "                except ZeroDivisionError:  # todo change this shit to something else, it's not normal\n",
    "                    day.propagation = 0\n",
    "\n",
    "            self.data.append(day)\n",
    "\n",
    "    def calc_propagation_trend(self):\n",
    "        trend = 0\n",
    "        trend_days = 0\n",
    "        for day in self.data:\n",
    "            if day.propagation != 0:\n",
    "                trend += day.propagation\n",
    "                trend_days += 1\n",
    "\n",
    "        self.propagation_trend = trend / trend_days\n"
   ]
  },
  {
   "cell_type": "markdown",
   "metadata": {},
   "source": [
    "Собственно собираем данные. \n",
    "\n",
    "Как дойдут руки - сделаю вывод данных в таблицу, пока что сорре"
   ]
  },
  {
   "cell_type": "code",
   "execution_count": 3,
   "metadata": {
    "pycharm": {
     "is_executing": false,
     "name": "#%%\n"
    }
   },
   "outputs": [],
   "source": [
    "\n",
    "country = Country(name='Russia', alt_name='Russian Federation')\n",
    "\n",
    "country.get_data()"
   ]
  },
  {
   "cell_type": "markdown",
   "metadata": {},
   "source": [
    "Вычисляем и выводим тренд распространения.\n",
    "\n",
    "### Что за тренд.\n",
    "Хоть какой-то показатель скорости распространения коронавируса. Считал так:\n",
    "1. Для начала я вычисляю 'заразность дня', то есть отношение \n",
    "> (кол-во подтвержденых случаев сегодня - кол-во подтвержденых случаев вчера) к количеству больных вчера.\n",
    "2. Средний тренд распространения я считал как среднее арифметическое трендов за все дни наблюдения. \n",
    "Как вариант сделать несколько трендов: за неделю/месяц/все время - хз как правильно.\n",
    "\n",
    "> Подемать насчет время среднего тренда = инкубационный период.\n",
    "\n",
    "У 'заразности дня' есть ощутимый косяк - например для данных по РФ за конец февраля получается деление на 0 (связано с \n",
    "тем: что кол-во диагностированных заболеваний = кол-ву выздоровевших). В тренде распространения дни с этим косяком не \n",
    "использовал совсем (это может быть проблемой: так как может повышать тренд).\n",
    "\n",
    "P.S. Не уверен, что именно так стоит считать заразность."
   ]
  },
  {
   "cell_type": "code",
   "execution_count": 4,
   "metadata": {
    "pycharm": {
     "is_executing": false,
     "name": "#%%\n"
    }
   },
   "outputs": [
    {
     "name": "stdout",
     "text": [
      "Средний тренд распространения: 1.516369775343156\n"
     ],
     "output_type": "stream"
    }
   ],
   "source": [
    "country.calc_propagation_trend()\n",
    "print(f'Средний тренд распространения: {country.propagation_trend}')\n"
   ]
  },
  {
   "cell_type": "markdown",
   "metadata": {},
   "source": [
    "### Строим графички\n",
    "\n",
    "На первом графике все просто: текущая ситуация, кол-во больных/переболевших/мертвых.\n",
    "\n",
    "На третьем графике соотношение выздоровевших/умерших. Особо ничего не показывает, но мне почему-то показалось важным \n",
    "нарисовать такой график.\n",
    "\n",
    "На втором графике самое интереснок: описанный выше тренд указан красным, синим нарисована 'заразность дня'."
   ]
  },
  {
   "cell_type": "code",
   "execution_count": 5,
   "metadata": {
    "pycharm": {
     "is_executing": false,
     "name": "#%%\n"
    }
   },
   "outputs": [
    {
     "data": {
      "text/plain": "<Figure size 864x576 with 3 Axes>",
      "image/png": "[encoded data removed]"
     },
     "metadata": {
      "needs_background": "light"
     },
     "output_type": "display_data"
    }
   ],
   "source": [
    "from matplotlib import pyplot as plt\n",
    "\n",
    "\n",
    "x = tuple(dates)\n",
    "y1 = [day.dead for day in country.data]\n",
    "y2 = [day.sick for day in country.data]\n",
    "y3 = [day.confirmed for day in country.data]\n",
    "y4 = [day.propagation for day in country.data]\n",
    "y5 = [country.propagation_trend for i in range(len(country.data))]\n",
    "y6 = [day.cured for day in country.data]\n",
    "ticks = [datetime.date(datetime.today() - timedelta(days=i)) for i in range(1, len(dates), 4)]\n",
    "\n",
    "gridsize = (3, 2)\n",
    "fig = plt.figure(figsize=(12, 8))\n",
    "ax1 = plt.subplot2grid(gridsize, (0, 0), colspan=2, rowspan=2)\n",
    "ax2 = plt.subplot2grid(gridsize, (2, 0))\n",
    "ax3 = plt.subplot2grid(gridsize, (2, 1))\n",
    "\n",
    "ax1.fill_between(x, 0, y1, facecolor='black', label='Умерло')\n",
    "ax1.fill_between(x, y1, y2, facecolor='orange', label='Болеют')\n",
    "ax1.fill_between(x, y2, y3, facecolor='green', label='Переболели')\n",
    "ax1.set_title('Общий график')\n",
    "ax1.legend(loc='upper left')\n",
    "ax1.set_ylabel('Люди')\n",
    "ax1.set_xticks(ticks)\n",
    "\n",
    "ax2.plot(x, y4, label='За день')\n",
    "ax2.plot(x, y5, 'r--', label='Средний за месяц')\n",
    "ax2.set_title('Тренд заболеваемости')\n",
    "ax2.legend(loc='upper right')\n",
    "ax2.set_ylabel('Коэффициент заразности')\n",
    "ax2.tick_params(axis='x', rotation=30)\n",
    "ax2.set_xticks(ticks)\n",
    "\n",
    "ax3.stackplot(x, y1, y6, labels=['Умерли', 'Переболели'], colors=['red', 'lightblue'])\n",
    "ax3.set_title('Соотношение переболевших/умерших')\n",
    "ax3.legend(loc='upper left')\n",
    "ax3.set_ylabel('Люди')\n",
    "ax3.tick_params(axis='x', rotation=30)\n",
    "ax3.set_xticks(ticks)\n",
    "\n",
    "fig.tight_layout()\n",
    "plt.show()\n"
   ]
  }
 ],
 "metadata": {
  "kernelspec": {
   "display_name": "Python 3",
   "language": "python",
   "name": "python3"
  },
  "language_info": {
   "codemirror_mode": {
    "name": "ipython",
    "version": 3
   },
   "file_extension": ".py",
   "mimetype": "text/x-python",
   "name": "python",
   "nbconvert_exporter": "python",
   "pygments_lexer": "ipython3",
   "version": "3.8.1"
  },
  "pycharm": {
   "stem_cell": {
    "cell_type": "raw",
    "source": [],
    "metadata": {
     "collapsed": false
    }
   }
  }
 },
 "nbformat": 4,
 "nbformat_minor": 1
}